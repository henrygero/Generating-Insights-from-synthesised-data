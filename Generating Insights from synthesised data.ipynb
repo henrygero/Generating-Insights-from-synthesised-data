{
 "cells": [
  {
   "cell_type": "markdown",
   "metadata": {},
   "source": [
    "# ANZ Synthesised Transaction Dataset"
   ]
  },
  {
   "cell_type": "markdown",
   "metadata": {},
   "source": [
    "The dataset contains the synthesised transaction of 100 accounts by ANZ.\n",
    "The dataset is designed to simulate realistic transaction behaviours that are observed in ANZ’s real transaction data, so many of the insights you can gather from the tasks below will be genuine."
   ]
  },
  {
   "cell_type": "code",
   "execution_count": null,
   "metadata": {},
   "outputs": [],
   "source": [
    "# Importing Libraries\n",
    "import numpy as np\n",
    "import pandas as pd \n",
    "import plotly.express as px\n",
    "import warnings\n",
    "import plotly.graph_objects as go\n",
    "import plotly.express as px\n",
    "import plotly.figure_factory as ff\n",
    "from plotly.subplots import make_subplots\n",
    "import plotly.io as pio\n",
    "%matplotlib inline\n",
    "pio.templates.default = \"plotly_dark\"\n",
    "warnings.filterwarnings('ignore')"
   ]
  },
  {
   "cell_type": "code",
   "execution_count": 6,
   "metadata": {},
   "outputs": [
    {
     "ename": "FileNotFoundError",
     "evalue": "[Errno 2] No such file or directory: 'ANZ_synthesised_transaction.xlsx'",
     "output_type": "error",
     "traceback": [
      "\u001b[1;31m---------------------------------------------------------------------------\u001b[0m",
      "\u001b[1;31mFileNotFoundError\u001b[0m                         Traceback (most recent call last)",
      "\u001b[1;32m<ipython-input-6-d37f7c268994>\u001b[0m in \u001b[0;36m<module>\u001b[1;34m\u001b[0m\n\u001b[1;32m----> 1\u001b[1;33m \u001b[0mdf\u001b[0m \u001b[1;33m=\u001b[0m \u001b[0mpd\u001b[0m\u001b[1;33m.\u001b[0m\u001b[0mread_excel\u001b[0m\u001b[1;33m(\u001b[0m\u001b[1;34m'ANZ_synthesised_transaction.xlsx'\u001b[0m\u001b[1;33m)\u001b[0m\u001b[1;33m\u001b[0m\u001b[1;33m\u001b[0m\u001b[0m\n\u001b[0m\u001b[0;32m      2\u001b[0m \u001b[0mdf\u001b[0m\u001b[1;33m.\u001b[0m\u001b[0mhead\u001b[0m\u001b[1;33m(\u001b[0m\u001b[1;33m)\u001b[0m\u001b[1;33m\u001b[0m\u001b[1;33m\u001b[0m\u001b[0m\n",
      "\u001b[1;32m~\\anaconda3\\lib\\site-packages\\pandas\\util\\_decorators.py\u001b[0m in \u001b[0;36mwrapper\u001b[1;34m(*args, **kwargs)\u001b[0m\n\u001b[0;32m    294\u001b[0m                 )\n\u001b[0;32m    295\u001b[0m                 \u001b[0mwarnings\u001b[0m\u001b[1;33m.\u001b[0m\u001b[0mwarn\u001b[0m\u001b[1;33m(\u001b[0m\u001b[0mmsg\u001b[0m\u001b[1;33m,\u001b[0m \u001b[0mFutureWarning\u001b[0m\u001b[1;33m,\u001b[0m \u001b[0mstacklevel\u001b[0m\u001b[1;33m=\u001b[0m\u001b[0mstacklevel\u001b[0m\u001b[1;33m)\u001b[0m\u001b[1;33m\u001b[0m\u001b[1;33m\u001b[0m\u001b[0m\n\u001b[1;32m--> 296\u001b[1;33m             \u001b[1;32mreturn\u001b[0m \u001b[0mfunc\u001b[0m\u001b[1;33m(\u001b[0m\u001b[1;33m*\u001b[0m\u001b[0margs\u001b[0m\u001b[1;33m,\u001b[0m \u001b[1;33m**\u001b[0m\u001b[0mkwargs\u001b[0m\u001b[1;33m)\u001b[0m\u001b[1;33m\u001b[0m\u001b[1;33m\u001b[0m\u001b[0m\n\u001b[0m\u001b[0;32m    297\u001b[0m \u001b[1;33m\u001b[0m\u001b[0m\n\u001b[0;32m    298\u001b[0m         \u001b[1;32mreturn\u001b[0m \u001b[0mwrapper\u001b[0m\u001b[1;33m\u001b[0m\u001b[1;33m\u001b[0m\u001b[0m\n",
      "\u001b[1;32m~\\anaconda3\\lib\\site-packages\\pandas\\io\\excel\\_base.py\u001b[0m in \u001b[0;36mread_excel\u001b[1;34m(io, sheet_name, header, names, index_col, usecols, squeeze, dtype, engine, converters, true_values, false_values, skiprows, nrows, na_values, keep_default_na, na_filter, verbose, parse_dates, date_parser, thousands, comment, skipfooter, convert_float, mangle_dupe_cols)\u001b[0m\n\u001b[0;32m    302\u001b[0m \u001b[1;33m\u001b[0m\u001b[0m\n\u001b[0;32m    303\u001b[0m     \u001b[1;32mif\u001b[0m \u001b[1;32mnot\u001b[0m \u001b[0misinstance\u001b[0m\u001b[1;33m(\u001b[0m\u001b[0mio\u001b[0m\u001b[1;33m,\u001b[0m \u001b[0mExcelFile\u001b[0m\u001b[1;33m)\u001b[0m\u001b[1;33m:\u001b[0m\u001b[1;33m\u001b[0m\u001b[1;33m\u001b[0m\u001b[0m\n\u001b[1;32m--> 304\u001b[1;33m         \u001b[0mio\u001b[0m \u001b[1;33m=\u001b[0m \u001b[0mExcelFile\u001b[0m\u001b[1;33m(\u001b[0m\u001b[0mio\u001b[0m\u001b[1;33m,\u001b[0m \u001b[0mengine\u001b[0m\u001b[1;33m=\u001b[0m\u001b[0mengine\u001b[0m\u001b[1;33m)\u001b[0m\u001b[1;33m\u001b[0m\u001b[1;33m\u001b[0m\u001b[0m\n\u001b[0m\u001b[0;32m    305\u001b[0m     \u001b[1;32melif\u001b[0m \u001b[0mengine\u001b[0m \u001b[1;32mand\u001b[0m \u001b[0mengine\u001b[0m \u001b[1;33m!=\u001b[0m \u001b[0mio\u001b[0m\u001b[1;33m.\u001b[0m\u001b[0mengine\u001b[0m\u001b[1;33m:\u001b[0m\u001b[1;33m\u001b[0m\u001b[1;33m\u001b[0m\u001b[0m\n\u001b[0;32m    306\u001b[0m         raise ValueError(\n",
      "\u001b[1;32m~\\anaconda3\\lib\\site-packages\\pandas\\io\\excel\\_base.py\u001b[0m in \u001b[0;36m__init__\u001b[1;34m(self, path_or_buffer, engine)\u001b[0m\n\u001b[0;32m    865\u001b[0m         \u001b[0mself\u001b[0m\u001b[1;33m.\u001b[0m\u001b[0m_io\u001b[0m \u001b[1;33m=\u001b[0m \u001b[0mstringify_path\u001b[0m\u001b[1;33m(\u001b[0m\u001b[0mpath_or_buffer\u001b[0m\u001b[1;33m)\u001b[0m\u001b[1;33m\u001b[0m\u001b[1;33m\u001b[0m\u001b[0m\n\u001b[0;32m    866\u001b[0m \u001b[1;33m\u001b[0m\u001b[0m\n\u001b[1;32m--> 867\u001b[1;33m         \u001b[0mself\u001b[0m\u001b[1;33m.\u001b[0m\u001b[0m_reader\u001b[0m \u001b[1;33m=\u001b[0m \u001b[0mself\u001b[0m\u001b[1;33m.\u001b[0m\u001b[0m_engines\u001b[0m\u001b[1;33m[\u001b[0m\u001b[0mengine\u001b[0m\u001b[1;33m]\u001b[0m\u001b[1;33m(\u001b[0m\u001b[0mself\u001b[0m\u001b[1;33m.\u001b[0m\u001b[0m_io\u001b[0m\u001b[1;33m)\u001b[0m\u001b[1;33m\u001b[0m\u001b[1;33m\u001b[0m\u001b[0m\n\u001b[0m\u001b[0;32m    868\u001b[0m \u001b[1;33m\u001b[0m\u001b[0m\n\u001b[0;32m    869\u001b[0m     \u001b[1;32mdef\u001b[0m \u001b[0m__fspath__\u001b[0m\u001b[1;33m(\u001b[0m\u001b[0mself\u001b[0m\u001b[1;33m)\u001b[0m\u001b[1;33m:\u001b[0m\u001b[1;33m\u001b[0m\u001b[1;33m\u001b[0m\u001b[0m\n",
      "\u001b[1;32m~\\anaconda3\\lib\\site-packages\\pandas\\io\\excel\\_xlrd.py\u001b[0m in \u001b[0;36m__init__\u001b[1;34m(self, filepath_or_buffer)\u001b[0m\n\u001b[0;32m     20\u001b[0m         \u001b[0merr_msg\u001b[0m \u001b[1;33m=\u001b[0m \u001b[1;34m\"Install xlrd >= 1.0.0 for Excel support\"\u001b[0m\u001b[1;33m\u001b[0m\u001b[1;33m\u001b[0m\u001b[0m\n\u001b[0;32m     21\u001b[0m         \u001b[0mimport_optional_dependency\u001b[0m\u001b[1;33m(\u001b[0m\u001b[1;34m\"xlrd\"\u001b[0m\u001b[1;33m,\u001b[0m \u001b[0mextra\u001b[0m\u001b[1;33m=\u001b[0m\u001b[0merr_msg\u001b[0m\u001b[1;33m)\u001b[0m\u001b[1;33m\u001b[0m\u001b[1;33m\u001b[0m\u001b[0m\n\u001b[1;32m---> 22\u001b[1;33m         \u001b[0msuper\u001b[0m\u001b[1;33m(\u001b[0m\u001b[1;33m)\u001b[0m\u001b[1;33m.\u001b[0m\u001b[0m__init__\u001b[0m\u001b[1;33m(\u001b[0m\u001b[0mfilepath_or_buffer\u001b[0m\u001b[1;33m)\u001b[0m\u001b[1;33m\u001b[0m\u001b[1;33m\u001b[0m\u001b[0m\n\u001b[0m\u001b[0;32m     23\u001b[0m \u001b[1;33m\u001b[0m\u001b[0m\n\u001b[0;32m     24\u001b[0m     \u001b[1;33m@\u001b[0m\u001b[0mproperty\u001b[0m\u001b[1;33m\u001b[0m\u001b[1;33m\u001b[0m\u001b[0m\n",
      "\u001b[1;32m~\\anaconda3\\lib\\site-packages\\pandas\\io\\excel\\_base.py\u001b[0m in \u001b[0;36m__init__\u001b[1;34m(self, filepath_or_buffer)\u001b[0m\n\u001b[0;32m    351\u001b[0m             \u001b[0mself\u001b[0m\u001b[1;33m.\u001b[0m\u001b[0mbook\u001b[0m \u001b[1;33m=\u001b[0m \u001b[0mself\u001b[0m\u001b[1;33m.\u001b[0m\u001b[0mload_workbook\u001b[0m\u001b[1;33m(\u001b[0m\u001b[0mfilepath_or_buffer\u001b[0m\u001b[1;33m)\u001b[0m\u001b[1;33m\u001b[0m\u001b[1;33m\u001b[0m\u001b[0m\n\u001b[0;32m    352\u001b[0m         \u001b[1;32melif\u001b[0m \u001b[0misinstance\u001b[0m\u001b[1;33m(\u001b[0m\u001b[0mfilepath_or_buffer\u001b[0m\u001b[1;33m,\u001b[0m \u001b[0mstr\u001b[0m\u001b[1;33m)\u001b[0m\u001b[1;33m:\u001b[0m\u001b[1;33m\u001b[0m\u001b[1;33m\u001b[0m\u001b[0m\n\u001b[1;32m--> 353\u001b[1;33m             \u001b[0mself\u001b[0m\u001b[1;33m.\u001b[0m\u001b[0mbook\u001b[0m \u001b[1;33m=\u001b[0m \u001b[0mself\u001b[0m\u001b[1;33m.\u001b[0m\u001b[0mload_workbook\u001b[0m\u001b[1;33m(\u001b[0m\u001b[0mfilepath_or_buffer\u001b[0m\u001b[1;33m)\u001b[0m\u001b[1;33m\u001b[0m\u001b[1;33m\u001b[0m\u001b[0m\n\u001b[0m\u001b[0;32m    354\u001b[0m         \u001b[1;32melif\u001b[0m \u001b[0misinstance\u001b[0m\u001b[1;33m(\u001b[0m\u001b[0mfilepath_or_buffer\u001b[0m\u001b[1;33m,\u001b[0m \u001b[0mbytes\u001b[0m\u001b[1;33m)\u001b[0m\u001b[1;33m:\u001b[0m\u001b[1;33m\u001b[0m\u001b[1;33m\u001b[0m\u001b[0m\n\u001b[0;32m    355\u001b[0m             \u001b[0mself\u001b[0m\u001b[1;33m.\u001b[0m\u001b[0mbook\u001b[0m \u001b[1;33m=\u001b[0m \u001b[0mself\u001b[0m\u001b[1;33m.\u001b[0m\u001b[0mload_workbook\u001b[0m\u001b[1;33m(\u001b[0m\u001b[0mBytesIO\u001b[0m\u001b[1;33m(\u001b[0m\u001b[0mfilepath_or_buffer\u001b[0m\u001b[1;33m)\u001b[0m\u001b[1;33m)\u001b[0m\u001b[1;33m\u001b[0m\u001b[1;33m\u001b[0m\u001b[0m\n",
      "\u001b[1;32m~\\anaconda3\\lib\\site-packages\\pandas\\io\\excel\\_xlrd.py\u001b[0m in \u001b[0;36mload_workbook\u001b[1;34m(self, filepath_or_buffer)\u001b[0m\n\u001b[0;32m     35\u001b[0m             \u001b[1;32mreturn\u001b[0m \u001b[0mopen_workbook\u001b[0m\u001b[1;33m(\u001b[0m\u001b[0mfile_contents\u001b[0m\u001b[1;33m=\u001b[0m\u001b[0mdata\u001b[0m\u001b[1;33m)\u001b[0m\u001b[1;33m\u001b[0m\u001b[1;33m\u001b[0m\u001b[0m\n\u001b[0;32m     36\u001b[0m         \u001b[1;32melse\u001b[0m\u001b[1;33m:\u001b[0m\u001b[1;33m\u001b[0m\u001b[1;33m\u001b[0m\u001b[0m\n\u001b[1;32m---> 37\u001b[1;33m             \u001b[1;32mreturn\u001b[0m \u001b[0mopen_workbook\u001b[0m\u001b[1;33m(\u001b[0m\u001b[0mfilepath_or_buffer\u001b[0m\u001b[1;33m)\u001b[0m\u001b[1;33m\u001b[0m\u001b[1;33m\u001b[0m\u001b[0m\n\u001b[0m\u001b[0;32m     38\u001b[0m \u001b[1;33m\u001b[0m\u001b[0m\n\u001b[0;32m     39\u001b[0m     \u001b[1;33m@\u001b[0m\u001b[0mproperty\u001b[0m\u001b[1;33m\u001b[0m\u001b[1;33m\u001b[0m\u001b[0m\n",
      "\u001b[1;32m~\\anaconda3\\lib\\site-packages\\xlrd\\__init__.py\u001b[0m in \u001b[0;36mopen_workbook\u001b[1;34m(filename, logfile, verbosity, use_mmap, file_contents, encoding_override, formatting_info, on_demand, ragged_rows)\u001b[0m\n\u001b[0;32m    109\u001b[0m     \u001b[1;32melse\u001b[0m\u001b[1;33m:\u001b[0m\u001b[1;33m\u001b[0m\u001b[1;33m\u001b[0m\u001b[0m\n\u001b[0;32m    110\u001b[0m         \u001b[0mfilename\u001b[0m \u001b[1;33m=\u001b[0m \u001b[0mos\u001b[0m\u001b[1;33m.\u001b[0m\u001b[0mpath\u001b[0m\u001b[1;33m.\u001b[0m\u001b[0mexpanduser\u001b[0m\u001b[1;33m(\u001b[0m\u001b[0mfilename\u001b[0m\u001b[1;33m)\u001b[0m\u001b[1;33m\u001b[0m\u001b[1;33m\u001b[0m\u001b[0m\n\u001b[1;32m--> 111\u001b[1;33m         \u001b[1;32mwith\u001b[0m \u001b[0mopen\u001b[0m\u001b[1;33m(\u001b[0m\u001b[0mfilename\u001b[0m\u001b[1;33m,\u001b[0m \u001b[1;34m\"rb\"\u001b[0m\u001b[1;33m)\u001b[0m \u001b[1;32mas\u001b[0m \u001b[0mf\u001b[0m\u001b[1;33m:\u001b[0m\u001b[1;33m\u001b[0m\u001b[1;33m\u001b[0m\u001b[0m\n\u001b[0m\u001b[0;32m    112\u001b[0m             \u001b[0mpeek\u001b[0m \u001b[1;33m=\u001b[0m \u001b[0mf\u001b[0m\u001b[1;33m.\u001b[0m\u001b[0mread\u001b[0m\u001b[1;33m(\u001b[0m\u001b[0mpeeksz\u001b[0m\u001b[1;33m)\u001b[0m\u001b[1;33m\u001b[0m\u001b[1;33m\u001b[0m\u001b[0m\n\u001b[0;32m    113\u001b[0m     \u001b[1;32mif\u001b[0m \u001b[0mpeek\u001b[0m \u001b[1;33m==\u001b[0m \u001b[1;34mb\"PK\\x03\\x04\"\u001b[0m\u001b[1;33m:\u001b[0m \u001b[1;31m# a ZIP file\u001b[0m\u001b[1;33m\u001b[0m\u001b[1;33m\u001b[0m\u001b[0m\n",
      "\u001b[1;31mFileNotFoundError\u001b[0m: [Errno 2] No such file or directory: 'ANZ_synthesised_transaction.xlsx'"
     ]
    }
   ],
   "source": [
    "df = pd.read_excel('ANZ_synthesised_transaction.xlsx')\n",
    "df.head()"
   ]
  },
  {
   "cell_type": "code",
   "execution_count": 8,
   "metadata": {},
   "outputs": [
    {
     "ename": "NameError",
     "evalue": "name 'df' is not defined",
     "output_type": "error",
     "traceback": [
      "\u001b[1;31m---------------------------------------------------------------------------\u001b[0m",
      "\u001b[1;31mNameError\u001b[0m                                 Traceback (most recent call last)",
      "\u001b[1;32m<ipython-input-8-a5635499250f>\u001b[0m in \u001b[0;36m<module>\u001b[1;34m\u001b[0m\n\u001b[0;32m      1\u001b[0m \u001b[1;31m# Lets check the Data¶\u001b[0m\u001b[1;33m\u001b[0m\u001b[1;33m\u001b[0m\u001b[1;33m\u001b[0m\u001b[0m\n\u001b[1;32m----> 2\u001b[1;33m \u001b[0mdf\u001b[0m\u001b[1;33m.\u001b[0m\u001b[0mshape\u001b[0m\u001b[1;33m\u001b[0m\u001b[1;33m\u001b[0m\u001b[0m\n\u001b[0m",
      "\u001b[1;31mNameError\u001b[0m: name 'df' is not defined"
     ]
    }
   ],
   "source": [
    "# Lets check the Data¶\n",
    "df.shape"
   ]
  },
  {
   "cell_type": "code",
   "execution_count": null,
   "metadata": {},
   "outputs": [],
   "source": [
    "df.info()"
   ]
  },
  {
   "cell_type": "code",
   "execution_count": null,
   "metadata": {},
   "outputs": [],
   "source": [
    "df.isnull().sum() #'bpay_biller_code' & 'merchant_code' have majority of the values as NULLS so can be easily dropped"
   ]
  },
  {
   "cell_type": "code",
   "execution_count": null,
   "metadata": {},
   "outputs": [],
   "source": [
    "df.country.value_counts() # This can be dropped as we are only dealing with one country"
   ]
  },
  {
   "cell_type": "code",
   "execution_count": null,
   "metadata": {},
   "outputs": [],
   "source": [
    "df.currency.value_counts() # This can be also dropped as we are only dealing with just one currency"
   ]
  },
  {
   "cell_type": "code",
   "execution_count": null,
   "metadata": {},
   "outputs": [],
   "source": [
    "# Drop 'bpay_biller_code' ,Currency , country and 'merchant_code' columns.\n",
    "df.drop(['bpay_biller_code','merchant_code', 'currency','country'],axis=1,inplace=True)"
   ]
  },
  {
   "cell_type": "code",
   "execution_count": null,
   "metadata": {},
   "outputs": [],
   "source": [
    "# Lets check if we have any duplicates records in the dataset\n",
    "df.duplicated().sum() # NO Duplicates"
   ]
  },
  {
   "cell_type": "code",
   "execution_count": null,
   "metadata": {},
   "outputs": [],
   "source": [
    "# Create Age buckets to analyse data as per age group\n",
    "df['age_group']=pd.cut(df.age,[0,20,30,40,50,60,99999],labels=['<20','20-30','30-40','40-50','50-60','>60'])"
   ]
  },
  {
   "cell_type": "code",
   "execution_count": null,
   "metadata": {},
   "outputs": [],
   "source": [
    "# Change datatype of extraction to datetime\n",
    "df.loc[:,['extraction','date']] = df.loc[:,['extraction','date']].apply(pd.to_datetime, errors='coerce')"
   ]
  },
  {
   "cell_type": "code",
   "execution_count": null,
   "metadata": {},
   "outputs": [],
   "source": [
    "df.info() # Datatype of extraction & date has been updated"
   ]
  },
  {
   "cell_type": "code",
   "execution_count": null,
   "metadata": {},
   "outputs": [],
   "source": [
    "# Create date helper columns\n",
    "df['month'] =df['date'].dt.month_name()\n",
    "df['day'] = df['date'].dt.day_name()\n",
    "df['hour']= df.extraction.dt.hour\n",
    "df.head()"
   ]
  },
  {
   "cell_type": "code",
   "execution_count": null,
   "metadata": {},
   "outputs": [],
   "source": [
    "# Change datatype of card_present_flag to INT\n",
    "df.card_present_flag = df.card_present_flag.astype('Int64')\n",
    "df.head()"
   ]
  },
  {
   "cell_type": "code",
   "execution_count": null,
   "metadata": {},
   "outputs": [],
   "source": [
    "# Analyze Categorical variables¶\n",
    "cols = ['card_present_flag', 'status', 'txn_description' , 'movement' , 'gender', 'merchant_state']\n",
    "\n",
    "#Subplot initialization\n",
    "fig = make_subplots(\n",
    "                     rows=3, \n",
    "                     cols=2,\n",
    "                     subplot_titles=('card_present_flag', 'status', 'txn_description' , 'movement','gender', 'merchant_state'),\n",
    "                     horizontal_spacing=0.2,\n",
    "                     vertical_spacing=0.2 \n",
    "                   )\n",
    "# Adding subplots\n",
    "count=0\n",
    "for i in range(1,4):\n",
    "    for j in range(1,3):\n",
    "        fig.add_trace(go.Bar(x=df[cols[count]].value_counts().index, \n",
    "                             y=df[cols[count]].value_counts(),\n",
    "                             name=cols[count],\n",
    "                             textposition='auto',\n",
    "                             text= [str(i) + '%' for i in (df[cols[count]].value_counts(normalize=True)*100).apply(lambda x : round(x)).tolist()],\n",
    "                            ),\n",
    "                      row=i,col=j)\n",
    "        count+=1\n",
    "fig.update_layout(\n",
    "                    title=dict(text = \"Analyze Categorical variables (Frequency / Percentage)\",x=0.5,y=0.95),\n",
    "                    title_font_size=20,\n",
    "                    showlegend=False,\n",
    "                    height = 920,\n",
    "                    margin=dict(l=80, r=80, t=150, b=80)\n",
    "                  )\n",
    "fig.show()"
   ]
  },
  {
   "cell_type": "code",
   "execution_count": null,
   "metadata": {},
   "outputs": [],
   "source": [
    "df0_grp=df.groupby(by='txn_description').sum()[['amount']].reset_index()\n",
    "df0_grp.amount=df0_grp.amount.apply(lambda x : round(x))\n",
    "fig=px.treemap(df0_grp,\n",
    "           path=['txn_description'],\n",
    "           values='amount',\n",
    "           color = 'amount',\n",
    "          )\n",
    "\n",
    "fig.update_layout(\n",
    "                    title=dict(text = \"Total Amount  by Transaction Desciption\",x=0.5,y=0.95),\n",
    "                    margin=dict(l=10, r=10, t=70, b=10),\n",
    "                  )\n",
    "fig.data[0].textinfo = 'label+value'\n",
    "fig.update_traces(marker_coloraxis=None)\n",
    "fig.show()"
   ]
  },
  {
   "cell_type": "code",
   "execution_count": null,
   "metadata": {},
   "outputs": [],
   "source": [
    "df_grp0=df.groupby(by='merchant_suburb').sum()[['amount']].reset_index()\n",
    "fig=px.treemap(df_grp0,\n",
    "           path=['merchant_suburb'],\n",
    "           values='amount',\n",
    "           color = 'amount',\n",
    "          )\n",
    "fig.update_layout(\n",
    "                    title=dict(text = \"Total Txn Amount by Suburb\",x=0.5,y=0.95),\n",
    "                    margin=dict(l=10, r=10, t=50, b=10),\n",
    "                    showlegend=False,\n",
    "                  )\n",
    "fig.data[0].textinfo = 'label+value'\n",
    "fig.update_traces(marker_coloraxis=None)\n",
    "fig.show()"
   ]
  },
  {
   "cell_type": "code",
   "execution_count": null,
   "metadata": {},
   "outputs": [],
   "source": [
    "df1 = df[df.movement=='debit'] # Debit Transactions\n",
    "df1.shape # 11160 debit transactions"
   ]
  },
  {
   "cell_type": "code",
   "execution_count": null,
   "metadata": {},
   "outputs": [],
   "source": [
    "cols = ['card_present_flag', 'status', 'txn_description' , 'movement' , 'gender', 'merchant_state']\n",
    "#Subplot initialization\n",
    "fig = make_subplots(\n",
    "                     rows=3, \n",
    "                     cols=2,\n",
    "                     subplot_titles=('card_present_flag', 'status', 'txn_description' , 'movement','gender', 'merchant_state'),\n",
    "                     horizontal_spacing=0.2,\n",
    "                     vertical_spacing=0.2 \n",
    "                   )\n",
    "# Adding subplots\n",
    "count=0\n",
    "for i in range(1,4): \n",
    "    for j in range(1,3): \n",
    "        fig.add_trace(go.Bar(x=df1.groupby(by=cols[count]).sum()['amount'].index,\n",
    "                             y=df1.groupby(by=cols[count]).sum()['amount'].values.round(2),\n",
    "                             name=cols[count],\n",
    "                             textposition='auto',\n",
    "                             text=[str(round((i/sum(df1.groupby(by=cols[count]).sum()['amount'].values))*100))+'%' \n",
    "                                   for i in df1.groupby(by=cols[count]).sum()['amount'].values]\n",
    "                            ),\n",
    "                      row=i,col=j)\n",
    "        count+=1\n",
    "fig.update_layout(\n",
    "                    title=dict(text = \"Analyze Categorical variables (Total Txn Amount/Percentage)\",x=0.5,y=0.95),\n",
    "                    title_font_size=20,\n",
    "                    showlegend=False,\n",
    "                    height = 920,\n",
    "                    margin=dict(l=80, r=80, t=150, b=80)\n",
    "                  )\n",
    "fig.show()"
   ]
  },
  {
   "cell_type": "code",
   "execution_count": null,
   "metadata": {},
   "outputs": [],
   "source": [
    "df_grp=df1.groupby(by=['merchant_state','gender']).sum()[['amount']].reset_index()\n",
    "order = df1.groupby(by=['merchant_state']).sum()[['amount']].sort_values(by='amount',ascending=False).index\n",
    "df_grp['merchant_state']=pd.Categorical(df_grp['merchant_state'],order)\n",
    "df_grp= df_grp.groupby(by=['merchant_state','gender']).sum().reset_index()\n",
    "fig=px.bar(data_frame=df_grp,\n",
    "       x='merchant_state',\n",
    "       y='amount',color='gender',\n",
    "       barmode='group',\n",
    "       text=df_grp.amount.apply(lambda x : str(round(x/1000,2))+'k')\n",
    "      )\n",
    "fig.update_traces(textposition='outside')\n",
    "fig.update_xaxes(title='Merchant State') \n",
    "fig.update_yaxes(title='Transaction Amount')\n",
    "fig.update_layout(\n",
    "                    title=dict(text = \"Transaction Amount in Merchant State by Gender\",x=0.5,y=0.95),\n",
    "                    title_font_size=20,\n",
    "                  )\n",
    "fig.show()"
   ]
  },
  {
   "cell_type": "code",
   "execution_count": null,
   "metadata": {},
   "outputs": [],
   "source": [
    "fig= px.bar(data_frame=df,\n",
    "       x=df1['day'].value_counts().index.tolist(), \n",
    "       y=df1['day'].value_counts().tolist(),\n",
    "       color=df1['day'].value_counts().tolist(), \n",
    "       text=df1['day'].value_counts().tolist() \n",
    "      )\n",
    "fig.update_traces(textposition='outside',marker_coloraxis=None)\n",
    "fig.update_xaxes(title='Day') \n",
    "fig.update_yaxes(title='Transaction count')\n",
    "fig.update_layout(\n",
    "                    title=dict(text = \"Transaction flow by each day\",x=0.5,y=0.95),\n",
    "                    title_font_size=20,\n",
    "                    showlegend=False,\n",
    "                    height = 450,\n",
    "                  )\n",
    "fig.show()\n",
    "\n",
    "\n",
    "fig1= px.bar(data_frame=df1.groupby(by='day').sum()[['amount']].sort_values('amount',ascending=False),\n",
    "            text=df1.groupby(by='day').sum()[['amount']].sort_values('amount',ascending=False)['amount'].apply(lambda x : str(round(x/1000,2))+'k')\n",
    "      )\n",
    "fig1.update_traces(textposition='outside')\n",
    "fig1.update_xaxes(title='Day') \n",
    "fig1.update_yaxes(title='Transaction Amount')\n",
    "fig1.update_layout(\n",
    "                    title=dict(text = \"Transaction amount by each day\",x=0.5,y=0.95),\n",
    "                    title_font_size=20,\n",
    "                    showlegend=False,\n",
    "                    height = 450,\n",
    "                  )\n",
    "fig1.show()"
   ]
  },
  {
   "cell_type": "code",
   "execution_count": null,
   "metadata": {},
   "outputs": [],
   "source": [
    "df1_grp=df1.groupby(by=['day','gender']).sum()[['amount']].reset_index()\n",
    "order = ['Monday','Tuesday', 'Wednesday','Thursday','Friday','Saturday','Sunday']\n",
    "df1_grp['day']=pd.Categorical(df1_grp['day'],order) \n",
    "df1_grp= df1_grp.groupby(by=['day','gender']).sum().reset_index()\n",
    "fig=px.bar(data_frame=df1_grp,\n",
    "       x='day',\n",
    "       y='amount',color='gender',\n",
    "       barmode='group',\n",
    "       text=df1_grp.amount.apply(lambda x : str(round(x/1000,2))+'k')\n",
    "      )\n",
    "fig.update_traces(textposition='outside')\n",
    "fig.update_xaxes(title='Day') \n",
    "fig.update_yaxes(title='Transaction Amount')\n",
    "fig.update_layout(\n",
    "                    title=dict(text = \"Transaction Amount per day by Gender\",x=0.5,y=0.95),\n",
    "                    title_font_size=20,\n",
    "                  )\n",
    "fig.show()"
   ]
  },
  {
   "cell_type": "code",
   "execution_count": null,
   "metadata": {},
   "outputs": [],
   "source": [
    "fig= px.bar(data_frame=df,\n",
    "       x=df['month'].value_counts().index.tolist(),\n",
    "       y=df['month'].value_counts().tolist(),\n",
    "       color=df['month'].value_counts().tolist(),\n",
    "       text=df['month'].value_counts().tolist()\n",
    "      )\n",
    "fig.update_traces(textposition='outside')\n",
    "fig.update_xaxes(title='Month') \n",
    "fig.update_yaxes(title='Transaction Count')\n",
    "fig.update_layout(\n",
    "                    title=dict(text = \"Transaction flow by each month\",x=0.5,y=0.95),\n",
    "                    title_font_size=20,\n",
    "                    width = 700,\n",
    "                    height = 450,\n",
    "                  )\n",
    "fig.show()"
   ]
  },
  {
   "cell_type": "code",
   "execution_count": null,
   "metadata": {},
   "outputs": [],
   "source": [
    "fig=px.bar(df.groupby(by='customer_id').sum()['amount'].sort_values(ascending=False).head(10),\n",
    "       color=df.groupby(by='customer_id').sum()['amount'].sort_values(ascending=False).head(10),\n",
    "       text=df.groupby(by='customer_id').sum()['amount'].sort_values(ascending=False).head(10).round(),\n",
    "      )\n",
    "fig.update_traces(textposition='outside',marker_coloraxis=None)\n",
    "fig.update_xaxes(title='Customer ID') \n",
    "fig.update_yaxes(title='Transaction Amount')\n",
    "fig.update_layout(\n",
    "                    title=dict(text = \"Top 10 customers by Transaction Amount\",x=0.5,y=0.95),\n",
    "                    title_font_size=20,\n",
    "                    showlegend=False,\n",
    "                    height = 500,\n",
    "                  )\n",
    "fig.show()"
   ]
  },
  {
   "cell_type": "code",
   "execution_count": null,
   "metadata": {},
   "outputs": [],
   "source": [
    "fig=px.bar(df1.age_group.value_counts(),\n",
    "       color=df1.age_group.value_counts(),\n",
    "       text=df1.age_group.value_counts().tolist(),\n",
    "      )\n",
    "fig.update_traces(textposition='outside',marker_coloraxis=None)\n",
    "fig.update_xaxes(title='Age Group') \n",
    "fig.update_yaxes(title='Transaction Count')\n",
    "fig.update_layout(\n",
    "                    title=dict(text = \"Transactions by Age Group\",x=0.5,y=0.95),\n",
    "                    title_font_size=20,\n",
    "                    showlegend=False,\n",
    "                    height = 450,\n",
    "                  )\n",
    "fig.show()"
   ]
  },
  {
   "cell_type": "code",
   "execution_count": null,
   "metadata": {},
   "outputs": [],
   "source": [
    "df2_grp=df1.groupby(by=['age_group','gender']).sum()['amount'].reset_index()\n",
    "fig=px.bar(data_frame=df2_grp,\n",
    "       x = 'age_group',\n",
    "       y = 'amount',\n",
    "       color='gender',\n",
    "       barmode='group',\n",
    "       text=df2_grp.amount.apply(lambda x : str(round(x/1000,2))+'k')\n",
    "      )\n",
    "fig.update_traces(textposition='outside')\n",
    "fig.update_layout(\n",
    "                    title=dict(text = \"Transaction Amount by Age Group & Gender\",x=0.5,y=0.95),\n",
    "                    title_font_size=20,\n",
    "                  )\n",
    "fig.show()"
   ]
  },
  {
   "cell_type": "code",
   "execution_count": null,
   "metadata": {},
   "outputs": [],
   "source": [
    "df3_grp=df1.groupby(by='date').mean()[['amount']].merge(df1.groupby(by='date').count()[['transaction_id']],on='date')\n",
    "df3_grp.columns= ['Amount','Transaction Count']\n",
    "fig=px.line(df3_grp)\n",
    "fig.update_xaxes(title='Date') \n",
    "fig.update_layout(\n",
    "                    title=dict(text = \"Average Amount VS Txn Count over time\",x=0.5,y=0.95),\n",
    "                    title_font_size=20\n",
    "                  )\n",
    "fig.show()"
   ]
  },
  {
   "cell_type": "code",
   "execution_count": null,
   "metadata": {},
   "outputs": [],
   "source": [
    "fig=px.line(df1.groupby(by='date').sum()[['amount']])\n",
    "fig.update_traces(line=dict(color=\"#8cba51\", width=3.5))\n",
    "fig.update_xaxes(title='Date') \n",
    "fig.update_yaxes(title='Transaction Amount')\n",
    "fig.update_layout(\n",
    "                    title=dict(text = \"Total Txn Amount over time\",x=0.5,y=0.95),\n",
    "                    title_font_size=20,\n",
    "                    showlegend=False,\n",
    "                  )\n",
    "fig.show()"
   ]
  },
  {
   "cell_type": "code",
   "execution_count": null,
   "metadata": {},
   "outputs": [],
   "source": [
    "fig=px.line(df1.groupby(by='hour').sum()[['amount']],\n",
    "            text=df1.groupby(by='hour').sum()['amount'].apply(lambda x : str(round(x/1000))+'k').values\n",
    "            )\n",
    "fig.update_traces(line=dict(color=\"#f58634\", width=5))\n",
    "fig.update_xaxes(title='Hour') \n",
    "fig.update_yaxes(title='Transaction Amount')\n",
    "fig.update_layout(\n",
    "                    title=dict(text = \"Total Txn Amount hourly\",x=0.5,y=0.95),\n",
    "                    title_font_size=20,\n",
    "                    showlegend=False,\n",
    "                  )\n",
    "fig.update_traces(textposition='middle right',fillcolor='red')\n",
    "fig.show()"
   ]
  },
  {
   "cell_type": "code",
   "execution_count": null,
   "metadata": {},
   "outputs": [],
   "source": [
    "df4_grp= df1.groupby(by=['hour','month','gender']).agg(['count','sum'])[['amount']].reset_index()\n",
    "df4_grp.columns = ['hour', 'month' ,'gender','Transaction Count', 'Total Txn Amount']\n",
    "fig1=px.line(data_frame=df4_grp,\n",
    "            x=df4_grp.hour,\n",
    "            y=df4_grp['Transaction Count'],\n",
    "            color=df4_grp.gender,\n",
    "            facet_col= df4_grp.month\n",
    "           )\n",
    "fig1.update_xaxes(title='Hour') \n",
    "fig1.update_layout(\n",
    "                    title=dict(text = \"Hourly Transaction count by Month \",x=0.5,y=0.95),\n",
    "                    title_font_size=20,\n",
    "                    margin=dict(l=80, r=80, t=100, b=80)\n",
    "                  )\n",
    "fig1.show()\n",
    "\n",
    "\n",
    "fig2=px.line(data_frame=df4_grp,\n",
    "            x=df4_grp.hour,\n",
    "            y=df4_grp['Total Txn Amount'],\n",
    "            color=df4_grp.gender,\n",
    "            facet_col= df4_grp.month\n",
    "           )\n",
    "fig2.update_xaxes(title='Hour') \n",
    "fig2.update_layout(\n",
    "                    title=dict(text = \"Hourly Transaction Amount by Month \",x=0.5,y=0.95),\n",
    "                    title_font_size=20,\n",
    "                    margin=dict(l=80, r=80, t=100, b=80)\n",
    "                  )\n",
    "fig2.show()"
   ]
  },
  {
   "cell_type": "code",
   "execution_count": null,
   "metadata": {},
   "outputs": [],
   "source": [
    "df4_grp= df1.groupby(by=['hour','day','gender']).agg(['count','sum'])[['amount']].reset_index()\n",
    "df4_grp.columns = ['hour', 'day' ,'gender','Transaction Count', 'Total Txn Amount']\n",
    "fig1=px.line(data_frame=df4_grp,\n",
    "            x=df4_grp.hour,\n",
    "            y=df4_grp['Transaction Count'],\n",
    "            color=df4_grp.gender,\n",
    "            facet_col= df4_grp.day\n",
    "           )\n",
    "fig1.update_xaxes(title='Hour') \n",
    "fig1.update_layout(\n",
    "                    title=dict(text = \"Hourly Transaction count by Day \",x=0.5,y=0.95),\n",
    "                    title_font_size=20,\n",
    "                    margin=dict(l=80, r=80, t=100, b=80)\n",
    "                  )\n",
    "fig1.show()\n",
    "\n",
    "\n",
    "fig2=px.line(data_frame=df4_grp,\n",
    "            x=df4_grp.hour,\n",
    "            y=df4_grp['Total Txn Amount'],\n",
    "            color=df4_grp.gender,\n",
    "            facet_col= df4_grp.day\n",
    "           )\n",
    "fig2.update_xaxes(title='Hour') \n",
    "fig2.update_layout(\n",
    "                    title=dict(text = \"Hourly Transaction Amount by Day \",x=0.5,y=0.95),\n",
    "                    title_font_size=20,\n",
    "                    margin=dict(l=80, r=80, t=100, b=80)\n",
    "                  )\n",
    "fig2.show()"
   ]
  },
  {
   "cell_type": "code",
   "execution_count": null,
   "metadata": {},
   "outputs": [],
   "source": [
    "# Analysing Credit Transactions\n",
    "\n",
    "df2 = df[df.movement=='credit']\n",
    "df2.shape # 883 Credit transactions"
   ]
  },
  {
   "cell_type": "code",
   "execution_count": null,
   "metadata": {},
   "outputs": [],
   "source": [
    "fig=px.bar(\n",
    "            df2.groupby(by='customer_id').mean()['balance'].sort_values(ascending=False).head(10),\n",
    "            text = df2.groupby(by='customer_id').mean()['balance'].sort_values(ascending=False).head(10).apply(\n",
    "                lambda x : str(round(x/1000,2))+'k' ),\n",
    "            color = df2.groupby(by='customer_id').mean()['balance'].sort_values(ascending=False).head(10)\n",
    "          )\n",
    "fig.update_traces(textposition='outside')\n",
    "fig.update_layout(\n",
    "                    title=dict(text = \"Top Valuable Customers by AVG Balance\",x=0.5,y=0.95),\n",
    "                    title_font_size=20,\n",
    "                    showlegend=False,\n",
    "                    height = 500\n",
    "                    \n",
    "                  )\n",
    "fig.update_traces(marker_coloraxis=None)\n",
    "fig.show()"
   ]
  },
  {
   "cell_type": "code",
   "execution_count": null,
   "metadata": {},
   "outputs": [],
   "source": [
    "order = ['August','September','October']\n",
    "df['month']=pd.Categorical(df['month'],order)\n",
    "g1 = df.groupby(by='month').agg(['mean','sum'])['amount']\n",
    "g1.columns=['Avg Amount', 'Total Amount']\n",
    "g1[['Avg Amount','Total Amount']]=g1[['Avg Amount','Total Amount']].round().astype(int)\n",
    "g1.reset_index(inplace=True)\n",
    "\n",
    "g2=df.groupby(by='month').agg(['mean','sum'])['balance']\n",
    "g2.columns=['Avg Balance', 'Total Balance']\n",
    "g2[['Avg Balance','Total Balance']]=g2[['Avg Balance','Total Balance']].round().astype(int)\n",
    "g2.reset_index(inplace=True)\n",
    "\n",
    "month = g1.merge(g2,on='month')\n",
    "month"
   ]
  },
  {
   "cell_type": "code",
   "execution_count": null,
   "metadata": {},
   "outputs": [],
   "source": [
    "pio.templates.default = \"plotly_white\"\n",
    "fig = ff.create_table(month) \n",
    "for i in range(len(fig.layout.annotations)):\n",
    "    fig.layout.annotations[i].font.size = 13\n",
    "fig.show()"
   ]
  },
  {
   "cell_type": "code",
   "execution_count": null,
   "metadata": {},
   "outputs": [],
   "source": []
  }
 ],
 "metadata": {
  "kernelspec": {
   "display_name": "Python 3",
   "language": "python",
   "name": "python3"
  },
  "language_info": {
   "codemirror_mode": {
    "name": "ipython",
    "version": 3
   },
   "file_extension": ".py",
   "mimetype": "text/x-python",
   "name": "python",
   "nbconvert_exporter": "python",
   "pygments_lexer": "ipython3",
   "version": "3.8.5"
  }
 },
 "nbformat": 4,
 "nbformat_minor": 5
}
